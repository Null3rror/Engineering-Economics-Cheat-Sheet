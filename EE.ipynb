{
  "nbformat": 4,
  "nbformat_minor": 0,
  "metadata": {
    "colab": {
      "name": "Economy.ipynb",
      "provenance": [],
      "collapsed_sections": []
    },
    "kernelspec": {
      "name": "python3",
      "display_name": "Python 3"
    },
    "language_info": {
      "name": "python"
    }
  },
  "cells": [
    {
      "cell_type": "markdown",
      "metadata": {
        "id": "qVq4oqHShZqh"
      },
      "source": [
        "#<center> Engineering Economy Epic Cheat Sheet</center>\n",
        "---"
      ]
    },
    {
      "cell_type": "code",
      "metadata": {
        "id": "2e-IfhQZQgGk"
      },
      "source": [
        "!cp drive/MyDrive/Economy/A_F.py .\n",
        "!cp drive/MyDrive/Economy/A_P.py .\n",
        "!cp drive/MyDrive/Economy/G.py .\n",
        "!cp drive/MyDrive/Economy/P_F.py .\n",
        "!cp drive/MyDrive/Economy/ie.py .\n",
        "!pip3 install -q matplotlib==3.4.2"
      ],
      "execution_count": 1,
      "outputs": []
    },
    {
      "cell_type": "markdown",
      "metadata": {
        "id": "i0FWyxDTCuvw"
      },
      "source": [
        "```!pip3 install -q matplotlib==3.4.2``` ***might give error, in order to fix it, restart runtime and run it again.***"
      ]
    },
    {
      "cell_type": "markdown",
      "metadata": {
        "id": "sk6uFyRKh6cJ"
      },
      "source": [
        "Import core files to your drive, and if needed change the previous cell."
      ]
    },
    {
      "cell_type": "code",
      "metadata": {
        "id": "l8P71A1dPiTC"
      },
      "source": [
        "from A_F import *\n",
        "from A_P import *\n",
        "from G import *\n",
        "from P_F import *\n",
        "from ie import *\n",
        "\n",
        "import sympy\n",
        "from sympy import *\n",
        "from sympy.solvers import solve\n",
        "import matplotlib.pyplot as plt\n",
        "plt.style.use('seaborn-whitegrid')\n",
        "from IPython.display import display, Latex\n",
        "import pandas as pd\n",
        "import numpy as np\n"
      ],
      "execution_count": 2,
      "outputs": []
    },
    {
      "cell_type": "markdown",
      "metadata": {
        "id": "QMCwDxO-hYO0"
      },
      "source": [
        "Here you can see each core function, remember that i should be $0 <= i <= 1$.<br>\n",
        "- Functions in **A_F.py**:\n",
        "  >- A_F(F, i, n): \n",
        "  $F(A/F, i, n)$\n",
        "  <br>\n",
        "  >- F_A(A, i, n): \n",
        "  $A(F/A, i, n)$\n",
        "  <br>\n",
        "  >- F_Aj(A1, i, j, n):\n",
        "  $A_1(F/A, i, j, n)$\n",
        "\n",
        "- Functions in **A_P.py**:\n",
        "  >- A_P(P, i, n, inf=False):\n",
        "  $P(A/P, i, n)$\n",
        "  <br>\n",
        "  >- P_A(A, i, n, inf=False): \n",
        "  $A(P/A, i, n)$\n",
        "  <br>\n",
        "  >- P_Aj(A1, i, j, n):\n",
        "  $A_1(P/A, i, j, n)$\n",
        "  \n",
        "- Functions in **G.py**:\n",
        "  >- P_G(G, i, n): \n",
        "  $G(P/G, i, n)$\n",
        "  <br>\n",
        "  >- A_G(G, i, n): \n",
        "  $G(P/G, i, n)$\n",
        " \n",
        "- Functions in **ie.py**:\n",
        "  >- ie(r, t): $(1 + \\dfrac{r}{t})^t - 1$\n",
        "\n",
        "- Functions in **P_F.py**:\n",
        "  >- P_F(F, i, n): $F(P/F, i, n)$\n",
        "  >- F_P(P, i, n): $P(F/P, i, n)$\n",
        "\n",
        "You can try them out in the next cell.\n"
      ]
    },
    {
      "cell_type": "code",
      "metadata": {
        "colab": {
          "base_uri": "https://localhost:8080/"
        },
        "id": "oYI06tpQqTxt",
        "outputId": "82e2c80e-ccd0-4ccb-b78d-6dd1e32af9cf"
      },
      "source": [
        "print(P_G(250, 0.24, 30) + P_A(1000, 0.24, 30))\n",
        "print(F_P(8444.31, 0.24, 30))\n",
        "print(A_F(5360616.30, 0.02, 240))"
      ],
      "execution_count": 3,
      "outputs": [
        {
          "output_type": "stream",
          "name": "stdout",
          "text": [
            "8444.317323931356\n",
            "5360616.307938108\n",
            "933.1839701888509\n"
          ]
        }
      ]
    },
    {
      "cell_type": "code",
      "metadata": {
        "id": "Muo-Rer1xxbK"
      },
      "source": [
        "def GeoMean(rs):\n",
        "  p = 1\n",
        "  for r in rs:\n",
        "    p *= (1 + r)\n",
        "  r = p ** (1/len(rs)) - 1\n",
        "  return r"
      ],
      "execution_count": 4,
      "outputs": []
    },
    {
      "cell_type": "markdown",
      "metadata": {
        "id": "Xj_1qK3HvEOY"
      },
      "source": [
        "To calcualte Geometric mean, use GeoMean(rs) function: <br>\n",
        "**GeoMean(rs = [r1, r2, r3 ..., rn])** = $r_g = \\sqrt[n]{(1 + r_1) (1 + r_2) (1 + r_3) ... (1 + r_n)}$<br>\n",
        "Here give it a try:"
      ]
    },
    {
      "cell_type": "code",
      "metadata": {
        "colab": {
          "base_uri": "https://localhost:8080/"
        },
        "id": "oBIvtslTwCOU",
        "outputId": "f422dd16-5637-4fc3-da07-8ee4a2d4acdf"
      },
      "source": [
        "print(GeoMean([1]))\n",
        "print(GeoMean([1, 1]))\n",
        "print(GeoMean([2, 1]))"
      ],
      "execution_count": 5,
      "outputs": [
        {
          "output_type": "stream",
          "name": "stdout",
          "text": [
            "1.0\n",
            "1.0\n",
            "1.4494897427831779\n"
          ]
        }
      ]
    },
    {
      "cell_type": "code",
      "metadata": {
        "id": "UjpzoqpA523c"
      },
      "source": [
        "def SolveRoR(eq, i):\n",
        "  shouldBreak = False\n",
        "  start = 0.01\n",
        "  while shouldBreak == False:\n",
        "    if start > 1:\n",
        "      break\n",
        "    try:\n",
        "      print(\"trying \", start)\n",
        "      i = nsolve(eq, i, (start, 0.99))\n",
        "      shouldBreak = True\n",
        "    except:\n",
        "      shouldBreak = False\n",
        "      start += 0.01\n",
        "  return i"
      ],
      "execution_count": 6,
      "outputs": []
    },
    {
      "cell_type": "markdown",
      "metadata": {
        "id": "SL8XfTg2Dg2a"
      },
      "source": [
        "You can use SolveRoR(eq, i) to calculate i, instead of looking it up in the i's tables of the book.\n",
        "Let's find the *i* for the corresponding formula: <br>\n",
        "$30000 = 8000(P/A, i, 5) + 7500(P/F, i, 5)$ "
      ]
    },
    {
      "cell_type": "code",
      "metadata": {
        "colab": {
          "base_uri": "https://localhost:8080/"
        },
        "id": "FneEGjfJDTHp",
        "outputId": "81a842c3-2919-4f1b-b27a-ca06a328f0aa"
      },
      "source": [
        "i = Symbol(\"i\")\n",
        "i = SolveRoR(-30000 + P_A(8000.0, i, 5) + P_F(7500, i, 5), i)\n",
        "print(-30000 + P_A(8000.0, i, 5) + P_F(7500, i, 5),\"\\ni =\", i)"
      ],
      "execution_count": 7,
      "outputs": [
        {
          "output_type": "stream",
          "name": "stdout",
          "text": [
            "trying  0.01\n",
            "7.73070496506989e-12 \n",
            "i = 0.156949623919420\n"
          ]
        }
      ]
    },
    {
      "cell_type": "markdown",
      "metadata": {
        "id": "U0shvHo0xhVZ"
      },
      "source": [
        "### Ok, so far with few lines of code you're good to go from chapter 1 till the end of chapter 10.<br>"
      ]
    },
    {
      "cell_type": "markdown",
      "metadata": {
        "id": "vEsRcB_y0Rb5"
      },
      "source": [
        "#<center>Chapter 6 Rate of Return</center>"
      ]
    },
    {
      "cell_type": "markdown",
      "metadata": {
        "id": "ULx2JJtn1HCf"
      },
      "source": [
        "You can calculate the most economical project based on RoR in 2 methods:\n",
        "1. Plot, use RoRDraw(PWs)\n",
        "2. Compute, use RoRCompute(PWs, n). **This is my preferred method**."
      ]
    },
    {
      "cell_type": "code",
      "metadata": {
        "id": "IsE4rklX0pds"
      },
      "source": [
        "def RoRDraw(PWs):\n",
        "  PWs = dict(sorted(PWs.items(), key=lambda x: x[1][0]))\n",
        "  # print(PWs)\n",
        "  PWBs = [PW[1] for PW in PWs.values()]\n",
        "  PWCs = [PW[0] for PW in PWs.values()]\n",
        "  labels = PWs.keys()\n",
        "  # print(labels)\n",
        "  fig, ax = plt.subplots(figsize=(13,13))\n",
        "  ax.scatter(PWCs, PWBs)\n",
        "\n",
        "  m =  1\n",
        "  ax.axline([0, 0], slope=m, color='pink')\n",
        "  for i, label in enumerate(labels):\n",
        "    ax.annotate(label, (PWCs[i], PWBs[i]))\n",
        "  for i in range(1, len(labels)):\n",
        "    ax.plot(PWCs[i-1:i+1], PWBs[i-1:i+1])\n",
        "    ax.annotate(((PWBs[i] - PWBs[i-1]) / (PWCs[i] - PWCs[i-1])) \\\n",
        "               ,((PWCs[i-1] + PWCs[i]) / 2, (PWBs[i-1] + PWBs[i]) / 2))"
      ],
      "execution_count": 8,
      "outputs": []
    },
    {
      "cell_type": "code",
      "metadata": {
        "id": "kJnB8t_200uH"
      },
      "source": [
        "def RoRCompute(PWs, n):\n",
        "  PWs = dict(sorted(PWs.items(), key=lambda x: x[1][0]))\n",
        "  # print(PWs)\n",
        "  PWBs = [PW[1] for PW in PWs.values()]\n",
        "  PWCs = [PW[0] for PW in PWs.values()]\n",
        "  labels = list(PWs.keys())\n",
        "  # print(labels)\n",
        "  table = {'index': [], 'RoR': []}\n",
        "  for j in range(1, len(labels)):\n",
        "    table['index'].append(labels[j - 1] + '-' + labels[j])\n",
        "    i = Symbol(\"i\")\n",
        "    P = PWCs[j] - PWCs[j-1]\n",
        "    A = PWBs[j] - PWBs[j-1]\n",
        "    i = SolveRoR((P / A) - P_A(1, i, n), i)\n",
        "    table['RoR'].append(i)\n",
        "  display(pd.DataFrame(table))"
      ],
      "execution_count": 9,
      "outputs": []
    },
    {
      "cell_type": "markdown",
      "metadata": {
        "id": "z4Cpowm91p94"
      },
      "source": [
        "Let's check some examples:"
      ]
    },
    {
      "cell_type": "code",
      "metadata": {
        "colab": {
          "base_uri": "https://localhost:8080/",
          "height": 828
        },
        "id": "C6-PLv1I1tUJ",
        "outputId": "7af0baaf-65e5-4b46-ec36-72f566e67d90"
      },
      "source": [
        "PWs = {'A': (269, 647), 'B': (652, 818)} # (PWc, PWb)\n",
        "\n",
        "RoRDraw(PWs)\n",
        "RoRCompute(PWs, 6) # n is 6 here, it's set based on the question"
      ],
      "execution_count": 10,
      "outputs": [
        {
          "output_type": "stream",
          "name": "stdout",
          "text": [
            "trying  0.01\n"
          ]
        },
        {
          "output_type": "display_data",
          "data": {
            "text/html": [
              "<div>\n",
              "<style scoped>\n",
              "    .dataframe tbody tr th:only-of-type {\n",
              "        vertical-align: middle;\n",
              "    }\n",
              "\n",
              "    .dataframe tbody tr th {\n",
              "        vertical-align: top;\n",
              "    }\n",
              "\n",
              "    .dataframe thead th {\n",
              "        text-align: right;\n",
              "    }\n",
              "</style>\n",
              "<table border=\"1\" class=\"dataframe\">\n",
              "  <thead>\n",
              "    <tr style=\"text-align: right;\">\n",
              "      <th></th>\n",
              "      <th>index</th>\n",
              "      <th>RoR</th>\n",
              "    </tr>\n",
              "  </thead>\n",
              "  <tbody>\n",
              "    <tr>\n",
              "      <th>0</th>\n",
              "      <td>A-B</td>\n",
              "      <td>0.382541812309857</td>\n",
              "    </tr>\n",
              "  </tbody>\n",
              "</table>\n",
              "</div>"
            ],
            "text/plain": [
              "  index                RoR\n",
              "0   A-B  0.382541812309857"
            ]
          },
          "metadata": {}
        },
        {
          "output_type": "display_data",
          "data": {
            "image/png": "[encoded data removed]",
            "text/plain": [
              "<Figure size 936x936 with 1 Axes>"
            ]
          },
          "metadata": {}
        }
      ]
    },
    {
      "cell_type": "markdown",
      "metadata": {
        "id": "xjSBxB9a5nBp"
      },
      "source": [
        "A is the most economical project."
      ]
    },
    {
      "cell_type": "code",
      "metadata": {
        "colab": {
          "base_uri": "https://localhost:8080/",
          "height": 875
        },
        "id": "bGml6g7412vM",
        "outputId": "1ed2795f-de0e-41a4-e0ba-ac0fa8f8c3ef"
      },
      "source": [
        "PWs = {'A': (2000, 4703), 'B': (4000, 7329), 'C': (5000, 8029)} # (PWc, PWb)\n",
        "\n",
        "RoRDraw(PWs)\n",
        "RoRCompute(PWs, 20) # n is 20 here, it's set based on the question"
      ],
      "execution_count": 11,
      "outputs": [
        {
          "output_type": "stream",
          "name": "stdout",
          "text": [
            "trying  0.01\n",
            "trying  0.01\n"
          ]
        },
        {
          "output_type": "display_data",
          "data": {
            "text/html": [
              "<div>\n",
              "<style scoped>\n",
              "    .dataframe tbody tr th:only-of-type {\n",
              "        vertical-align: middle;\n",
              "    }\n",
              "\n",
              "    .dataframe tbody tr th {\n",
              "        vertical-align: top;\n",
              "    }\n",
              "\n",
              "    .dataframe thead th {\n",
              "        text-align: right;\n",
              "    }\n",
              "</style>\n",
              "<table border=\"1\" class=\"dataframe\">\n",
              "  <thead>\n",
              "    <tr style=\"text-align: right;\">\n",
              "      <th></th>\n",
              "      <th>index</th>\n",
              "      <th>RoR</th>\n",
              "    </tr>\n",
              "  </thead>\n",
              "  <tbody>\n",
              "    <tr>\n",
              "      <th>0</th>\n",
              "      <td>A-B</td>\n",
              "      <td>1.31299993164783</td>\n",
              "    </tr>\n",
              "    <tr>\n",
              "      <th>1</th>\n",
              "      <td>B-C</td>\n",
              "      <td>0.699982773080226</td>\n",
              "    </tr>\n",
              "  </tbody>\n",
              "</table>\n",
              "</div>"
            ],
            "text/plain": [
              "  index                RoR\n",
              "0   A-B   1.31299993164783\n",
              "1   B-C  0.699982773080226"
            ]
          },
          "metadata": {}
        },
        {
          "output_type": "display_data",
          "data": {
            "image/png": "[encoded data removed]",
            "text/plain": [
              "<Figure size 936x936 with 1 Axes>"
            ]
          },
          "metadata": {}
        }
      ]
    },
    {
      "cell_type": "markdown",
      "metadata": {
        "id": "-PGoqv9E4hVq"
      },
      "source": [
        "B is the most economical project."
      ]
    },
    {
      "cell_type": "code",
      "metadata": {
        "colab": {
          "base_uri": "https://localhost:8080/",
          "height": 1000
        },
        "id": "eGQP46eF4LHP",
        "outputId": "d931d671-7bda-4ef6-e2db-5d8fe5decaa6"
      },
      "source": [
        "PWs = {'A': (2000, 4100), 'B': (4000, 6390), 'C': (1000, 1170), 'D': (6000, 7610), 'E': (9000, 7850)} # (PWc, PWb)\n",
        "\n",
        "RoRDraw(PWs)\n",
        "RoRCompute(PWs, 20) # n is 20 here, it's set based on the question"
      ],
      "execution_count": 12,
      "outputs": [
        {
          "output_type": "stream",
          "name": "stdout",
          "text": [
            "trying  0.01\n",
            "trying  0.01\n",
            "trying  0.01\n",
            "trying  0.01\n",
            "trying  0.02\n",
            "trying  0.03\n"
          ]
        },
        {
          "output_type": "display_data",
          "data": {
            "text/html": [
              "<div>\n",
              "<style scoped>\n",
              "    .dataframe tbody tr th:only-of-type {\n",
              "        vertical-align: middle;\n",
              "    }\n",
              "\n",
              "    .dataframe tbody tr th {\n",
              "        vertical-align: top;\n",
              "    }\n",
              "\n",
              "    .dataframe thead th {\n",
              "        text-align: right;\n",
              "    }\n",
              "</style>\n",
              "<table border=\"1\" class=\"dataframe\">\n",
              "  <thead>\n",
              "    <tr style=\"text-align: right;\">\n",
              "      <th></th>\n",
              "      <th>index</th>\n",
              "      <th>RoR</th>\n",
              "    </tr>\n",
              "  </thead>\n",
              "  <tbody>\n",
              "    <tr>\n",
              "      <th>0</th>\n",
              "      <td>C-A</td>\n",
              "      <td>2.92999999999621</td>\n",
              "    </tr>\n",
              "    <tr>\n",
              "      <th>1</th>\n",
              "      <td>A-B</td>\n",
              "      <td>1.14499973068494</td>\n",
              "    </tr>\n",
              "    <tr>\n",
              "      <th>2</th>\n",
              "      <td>B-D</td>\n",
              "      <td>0.609955428959080</td>\n",
              "    </tr>\n",
              "    <tr>\n",
              "      <th>3</th>\n",
              "      <td>D-E</td>\n",
              "      <td>0.0496431890836336</td>\n",
              "    </tr>\n",
              "  </tbody>\n",
              "</table>\n",
              "</div>"
            ],
            "text/plain": [
              "  index                 RoR\n",
              "0   C-A    2.92999999999621\n",
              "1   A-B    1.14499973068494\n",
              "2   B-D   0.609955428959080\n",
              "3   D-E  0.0496431890836336"
            ]
          },
          "metadata": {}
        },
        {
          "output_type": "display_data",
          "data": {
            "image/png": "[encoded data removed]",
            "text/plain": [
              "<Figure size 936x936 with 1 Axes>"
            ]
          },
          "metadata": {}
        }
      ]
    },
    {
      "cell_type": "markdown",
      "metadata": {
        "id": "Apb4HCpH4yG-"
      },
      "source": [
        "B is the most economical project."
      ]
    },
    {
      "cell_type": "markdown",
      "metadata": {
        "id": "tFzud5ss0PR-"
      },
      "source": [
        "###Rest of the codes are for chapter 11 to chapter 14.\n"
      ]
    },
    {
      "cell_type": "markdown",
      "metadata": {
        "id": "5OZHMa9yystI"
      },
      "source": [
        "#<center>Chapter 11 Decline</center>\n",
        "---"
      ]
    },
    {
      "cell_type": "markdown",
      "metadata": {
        "id": "7-eh1SKzy43I"
      },
      "source": [
        "In the following cells, you can see each decline type implemented in a class, but all of them are drived from DeclineBase."
      ]
    },
    {
      "cell_type": "code",
      "metadata": {
        "id": "rLk8YoI7jTXr"
      },
      "source": [
        "class DeclineBase:\n",
        "  def __init__(self, P, n):\n",
        "    self.P = P\n",
        "    self.n = n\n",
        "\n",
        "  def GetD(self, m):\n",
        "    pass\n",
        "  def BV(self, m):\n",
        "    pass\n",
        "  def GetTable(self):\n",
        "    table = {\"m\": [], \"Dm\": [], \"BVm\": []}\n",
        "    for i in range(self.n + 1):\n",
        "      table[\"m\"].append(i)\n",
        "      table[\"Dm\"].append(self.GetD(i))\n",
        "      table[\"BVm\"].append(self.BV(i))\n",
        "    df = pd.DataFrame(table)\n",
        "    display(df)\n",
        "  def GetDs(self):\n",
        "    return [self.GetD(i) for i in range(1, self.n + 1)]\n",
        "  def GetPWD(self, i):\n",
        "    return sum([P_F(self.GetD(m), i, m) for m in range(1, self.n + 1)])\n",
        "  def GetEUA(self, i):\n",
        "    return A_P(self.GetPWD(i), i, self.n)\n",
        "  def GetTaxSaving(self, TR, i):\n",
        "    return TR * self.GetPWD(i)"
      ],
      "execution_count": 13,
      "outputs": []
    },
    {
      "cell_type": "code",
      "metadata": {
        "id": "0o8RAGMxXPZR"
      },
      "source": [
        "class DeclineNull(DeclineBase):\n",
        "  def __init__(self, P, n, SV):\n",
        "    super().__init__(P, n)\n",
        "    self.SV = SV\n",
        "\n",
        "    sP = Symbol('P')\n",
        "    sSV = Symbol('SV')\n",
        "    sn = Symbol('n')\n",
        "    sm = Symbol('m')\n",
        "    sD = Symbol('D')\n",
        "    self.DFormula = eval(\"(sP - sSV) / sn\")\n",
        "    self.BVFormula = eval(\"sP - sm*sD\")\n",
        "    \n",
        "  def GetD(self, m):\n",
        "    return 0\n",
        "\n",
        "  def BV(self, m):\n",
        "    D = self.GetD(m)\n",
        "    BV = self.P - m * D \n",
        "    display(Latex(f'$BV_{m}={sympy.latex(self.BVFormula)} = {BV}$'))\n",
        "    return BV\n",
        "\n",
        "  def GetTaxSaving(self, TR, i):\n",
        "    return  0"
      ],
      "execution_count": 14,
      "outputs": []
    },
    {
      "cell_type": "code",
      "metadata": {
        "id": "n77gSyneSR0p"
      },
      "source": [
        "class DeclineLinear(DeclineBase):\n",
        "  def __init__(self, P, n, SV):\n",
        "    super().__init__(P, n)\n",
        "    self.SV = SV\n",
        "\n",
        "    sP = Symbol('P')\n",
        "    sSV = Symbol('SV')\n",
        "    sn = Symbol('n')\n",
        "    sm = Symbol('m')\n",
        "    sD = Symbol('D')\n",
        "    self.DFormula = eval(\"(sP - sSV) / sn\")\n",
        "    self.BVFormula = eval(\"sP - sm*sD\")\n",
        "    \n",
        "  def GetD(self, m):\n",
        "    D = (self.P - self.SV) / self.n\n",
        "    display(Latex(f'${\"D =\"}{sympy.latex(self.DFormula)} = {D}$'))\n",
        "    return D\n",
        "\n",
        "  def BV(self, m):\n",
        "    D = self.GetD(m)\n",
        "    BV = self.P - m * D \n",
        "    display(Latex(f'$BV_{m}={sympy.latex(self.BVFormula)} = {BV}$'))\n",
        "    return BV\n",
        "\n",
        "  def GetTaxSaving(self, TR, i):\n",
        "    r = ((TR * (self.P - self.SV)) / self.n) * P_A(1, i, self.n)\n",
        "    print(f\"method1: {super().GetTaxSaving(TR, i)}\", f\"method2: {r}\")\n",
        "    return  r"
      ],
      "execution_count": 15,
      "outputs": []
    },
    {
      "cell_type": "code",
      "metadata": {
        "id": "4B6SZeS7jVop"
      },
      "source": [
        "class DeclineSYD(DeclineBase):\n",
        "  def __init__(self, P, n, SV):\n",
        "    super().__init__(P, n)\n",
        "    self.SV = SV\n",
        "\n",
        "    sP = Symbol('P')\n",
        "    sSV = Symbol('SV')\n",
        "    sn = Symbol('n')\n",
        "    sm = Symbol('m')\n",
        "    sD = Symbol('D')\n",
        "    SYD = sympify(\"(n * (n + 1)) / 2\")\n",
        "    self.SYDFormula = eval(\"SYD\")\n",
        "    self.DFormula = eval(\"((sn - sm + 1) / (SYD)) * (sP - sSV)\")\n",
        "    self.BVFormula = eval(\"sP - ((sm*(sn - sm/2 + 0.5)/SYD) * (sP - sSV))\")\n",
        "\n",
        "    self.SYD = (self.n * (self.n + 1)) / 2 \n",
        "    display(Latex(f'$SYD = {sympy.latex(self.SYDFormula)} = {self.SYD}$'))\n",
        "  def GetSYD(self):\n",
        "    return self.SYD \n",
        "\n",
        "  def GetD(self, m):\n",
        "    SYD = self.GetSYD()\n",
        "    Dm = ((self.n - m + 1) / SYD) * (self.P - self.SV)\n",
        "    display(Latex(f'$D_{m} = {sympy.latex(self.DFormula)} = {Dm}$'))\n",
        "    return  Dm\n",
        "\n",
        "  def BV(self, m):\n",
        "    SYD = self.GetSYD()\n",
        "    BVm = self.P - (((m * (self.n - (m / 2) + 0.5)) / SYD) * (self.P - self.SV))\n",
        "    display(Latex(f'$BV_{m} = {sympy.latex(self.BVFormula)} = {BVm}$'))\n",
        "    return BVm\n",
        "\n",
        "  def GetTaxSaving(self, TR, i):\n",
        "    r = ((2 * TR * (self.P - self.SV)) / ((self.n + 1) * i)) * (1 + (1 / (self.n * i)) * ((1 + i)**(-self.n) - 1))\n",
        "    print(f\"method1: {super().GetTaxSaving(TR, i)}\", f\"method2: {r}\")\n",
        "    return  r  "
      ],
      "execution_count": 16,
      "outputs": []
    },
    {
      "cell_type": "code",
      "metadata": {
        "id": "5vwq0WG0niQd"
      },
      "source": [
        "class DeclineDB(DeclineBase):\n",
        "  def __init__(self, P, n, SV, d):\n",
        "    super().__init__(P, n)\n",
        "    self.SV = SV\n",
        "    self.hasd = d > 0\n",
        "    self.d = d if d > 0 else (1 - (SV / P)**(1/n))\n",
        "    sP = Symbol('P')\n",
        "    sSV = Symbol('SV')\n",
        "    sn = Symbol('n')\n",
        "    sm = Symbol('m')\n",
        "    sD = Symbol('D')\n",
        "    sd = Symbol('d')\n",
        "    self.DFormula  = eval(\"sd * sP * (1 - sd)**(sm - 1)\")\n",
        "    self.dFormula  = eval(\"1 - ((sSV / sP)**(1/sn))\")\n",
        "    self.BVFormula = eval(\"sP * (1 - sd)**sm\")\n",
        "    self.Getd()\n",
        "  def Getd(self):\n",
        "    display(Latex(f'$d = {sympy.latex(self.dFormula)} = {self.d}$'))\n",
        "\n",
        "\n",
        "  def GetD(self, m):\n",
        "    Dm = self.d * self.P * ((1 - self.d)**(m - 1))\n",
        "    display(Latex(f'$D_{m} = BV_{m-1}*d = {sympy.latex(self.DFormula)} = {Dm}$'))\n",
        "    return Dm\n",
        "\n",
        "  def BV(self, m):\n",
        "    BVm = self.P * ((1 - self.d)**m)\n",
        "    display(Latex(f'$BV_{m} = {sympy.latex(self.BVFormula)} = {BVm}$'))\n",
        "    return BVm\n",
        "\n",
        "  def GetTaxSaving(self, TR, i):\n",
        "    r = ((2 * self.P * TR) / self.n) * ((1 - ((1 - self.d) / (1 + i)) ** self.n) / (i + self.d))\n",
        "    print(f\"method1: {super().GetTaxSaving(TR, i)}\", f\"method2: {r}\")\n",
        "    return  r  \n",
        "    \n",
        "  "
      ],
      "execution_count": 17,
      "outputs": []
    },
    {
      "cell_type": "code",
      "metadata": {
        "id": "EBZo42UtCw7Z"
      },
      "source": [
        "class DeclineDDB(DeclineDB):\n",
        "  def __init__(self, P, n, SV, d):\n",
        "    super().__init__(P, n, SV, d)\n",
        "    self.d = d if d > 0 else 2 / n\n",
        "                                   \n",
        "    sn = Symbol('n')\n",
        "    self.dFormula  = eval(\"2 / sn\")\n",
        "    self.Getd()\n",
        "    self.fixedDs = []\n",
        "\n",
        "  def GetFixedTable(self):\n",
        "    if self.BV(self.n) < self.SV:\n",
        "      table = {\"m\": [], \"Dm\": [], \"BVm\": []}\n",
        "      isDZero = False\n",
        "      for m in range(1, self.n + 1):\n",
        "        table['m'].append(m)\n",
        "        BV = self.BV(m)\n",
        "        \n",
        "        if not isDZero and BV < self.SV:\n",
        "          isDZero = True\n",
        "          table['Dm'].append(self.BV(m - 1) - self.SV)\n",
        "          table['BVm'].append(self.SV)\n",
        "          continue \n",
        "        if isDZero:\n",
        "          table['Dm'].append(0)\n",
        "          table['BVm'].append(self.SV)\n",
        "        else:\n",
        "          table['Dm'].append(self.GetD(m))\n",
        "          table['BVm'].append(BV)\n",
        "      print(table)\n",
        "      display(pd.DataFrame(table))\n",
        "      self.fixedDs = table['Dm']\n",
        "    elif self.BV(self.n) > self.SV:\n",
        "      table2 = {\"m\": [], \"Dm\": [], \"SLm\": [], 'BVm': []}\n",
        "\n",
        "      # table = dict([(str(j), []) for j in range(1, self.n + 1)])\n",
        "      # table['m'] = [m for m in range(1, self.n + 1)]\n",
        "      table2['m'] = [m for m in range(1, self.n + 1)]\n",
        "      for m in range(1, self.n + 1):\n",
        "        # for i in range(1, m):\n",
        "        #   table[str(m)].append(self.GetD(i))\n",
        "        SL = (self.BV(m - 1) - self.SV) / (self.n - (m - 1))\n",
        "        table2['SLm'].append(SL)\n",
        "        table2['Dm'].append(self.GetD(m))\n",
        "        table2['BVm'].append(self.BV(m))\n",
        "        # for i in range(m, self.n + 1):\n",
        "        #   table[str(m)].append(SL)\n",
        "      # print(table)\n",
        "      print(table2)\n",
        "      # df = pd.DataFrame(table)\n",
        "      # df.set_index('m')\n",
        "      df2 = pd.DataFrame(table2)\n",
        "      df2.set_index('m')\n",
        "      # display(df)\n",
        "      display(df2)\n",
        "      \n",
        "      for m in range(self.n):\n",
        "        if table2['SLm'][m] > table2['Dm'][m]:\n",
        "          for j in range(m, self.n):\n",
        "            table2['Dm'][j] = table2['SLm'][m]\n",
        "            table2['BVm'][j] = table2['BVm'][j - 1] - table2['SLm'][m]\n",
        "          break\n",
        "      del table2['SLm']\n",
        "      print(table2)\n",
        "      df2 = pd.DataFrame(table2)\n",
        "      df2.set_index('m')\n",
        "      display(df2)\n",
        "      self.fixedDs = table2['Dm']\n",
        "      # return df\n",
        "    else:\n",
        "      print(\"no need for fixed table\")\n",
        "  def GetFixedDs(self):\n",
        "    return self.fixedDs \n",
        "  def GetTaxSaving(self, TR, i):\n",
        "    return TR * self.GetPWD(i)"
      ],
      "execution_count": 18,
      "outputs": []
    },
    {
      "cell_type": "code",
      "metadata": {
        "id": "_Zvan7H00dwG"
      },
      "source": [
        "class DeclineSF(DeclineBase):\n",
        "  def __init__(self, P, n, SV, i):\n",
        "    super().__init__(P, n)\n",
        "    self.SV = SV\n",
        "    self.i = i\n",
        "    \n",
        "  def GetD(self, m):\n",
        "    D = A_F((self.P - self.SV), self.i, self.n) * F_P(1, self.i, m - 1)\n",
        "    print(D)\n",
        "    display(Latex(f'$D_{m}=(P - SV)(A / F, i/100, n)(F / P, i/100, m - 1) = {D}$'))\n",
        "    return D\n",
        "\n",
        "  def BV(self, m):\n",
        "    \n",
        "    BV = self.P - A_F((self.P - self.SV), self.i, self.n) * F_A(1, self.i, m)\n",
        "    display(Latex(f'$BV_{m}=P - (P - SV)(A / F, i/100, n)(F / A, i/100, m) = {BV}$'))\n",
        "    return BV"
      ],
      "execution_count": 19,
      "outputs": []
    },
    {
      "cell_type": "code",
      "metadata": {
        "id": "WmhoTbZmGVk8"
      },
      "source": [
        "class DeclineUP(DeclineBase):\n",
        "  def __init__(self, P, n, SV, Ums):\n",
        "    super().__init__(P, n)\n",
        "    self.SV = SV\n",
        "    self.U = sum(Ums)\n",
        "    self.Ums = Ums\n",
        "\n",
        "  def GetD(self, m):\n",
        "    if m == 0:\n",
        "      return 0\n",
        "    Dm = (self.P - self.SV) * (self.Ums[m - 1] / self.U)\n",
        "    display(Latex(f'$D_{m} = (P - SV)(U_{m} / U) = {Dm}$'))\n",
        "    return Dm\n",
        "\n",
        "  def BV(self, m):\n",
        "    s = 0\n",
        "    for i in range(1, m + 1):\n",
        "      s += self.GetD(i)\n",
        "    BVm = self.P - s\n",
        "    display(Latex(f'$BV_{m}' + ' = P - \\sum_{k=1}^m D_k = ' + f'P - {s} ={BVm}$'))\n",
        "    return BVm"
      ],
      "execution_count": 20,
      "outputs": []
    },
    {
      "cell_type": "code",
      "metadata": {
        "id": "1tM6M4efNEUA"
      },
      "source": [
        "class DeclineTO(DeclineBase):\n",
        "  def __init__(self, P, n, SV, Qms):\n",
        "    super().__init__(P, n)\n",
        "    self.SV = SV\n",
        "    self.Q = sum(Qms)\n",
        "    self.Qms = Qms\n",
        "\n",
        "  def GetD(self, m):\n",
        "    if m == 0:\n",
        "      return 0\n",
        "    Dm = (self.P - self.SV) * (self.Qms[m - 1] / self.Q)\n",
        "    display(Latex(f'$D_{m} = (P - SV)(Q_{m} / Q) = {Dm}$'))\n",
        "    return Dm\n",
        "\n",
        "  def BV(self, m):\n",
        "    s = 0\n",
        "    for i in range(1, m + 1):\n",
        "      s += self.GetD(i)\n",
        "    BVm = self.P - s\n",
        "    display(Latex(f'$BV_{m}' + ' = P - \\sum_{k=1}^m D_k = ' + f'P - {s} ={BVm}$'))\n",
        "    return BVm\n",
        "   "
      ],
      "execution_count": 21,
      "outputs": []
    },
    {
      "cell_type": "markdown",
      "metadata": {
        "id": "AZ85n-WUzN8a"
      },
      "source": [
        "Try them out:"
      ]
    },
    {
      "cell_type": "code",
      "metadata": {
        "id": "KMs9lsq5chIe",
        "colab": {
          "base_uri": "https://localhost:8080/",
          "height": 761
        },
        "outputId": "2cbf1014-c46d-4dac-e8d9-1875c42a29ed"
      },
      "source": [
        "# d = DeclineSYD(200000, 9, 10000)\n",
        "# d = DeclineLinear(80000, 10, 10000)\n",
        "P = 70000\n",
        "n = 8\n",
        "SV = 20000\n",
        "d = DeclineDDB(P, n, SV, -1)\n",
        "d.GetTable()\n",
        "# d = DeclineDDB(82000, 7, 5000, -1)\n",
        "# d.GetTable()\n",
        "# d.GetFixedTable()\n",
        "\n",
        "# d = DeclineSF(80000, 10, 10000, 0.1)\n",
        "# d = DeclineUP(2000000, 5, 400000, [2000, 4000, 8000, 16000, 10000])\n",
        "# d = DeclineTO(2000000, 5, 400000, [2000, 4000, 8000, 16000, 10000])\n",
        "# d.GetTable()"
      ],
      "execution_count": 22,
      "outputs": [
        {
          "output_type": "display_data",
          "data": {
            "text/latex": "$d = 1 - \\left(\\frac{SV}{P}\\right)^{\\frac{1}{n}} = 0.14495003320915523$",
            "text/plain": [
              "<IPython.core.display.Latex object>"
            ]
          },
          "metadata": {}
        },
        {
          "output_type": "display_data",
          "data": {
            "text/latex": "$d = \\frac{2}{n} = 0.25$",
            "text/plain": [
              "<IPython.core.display.Latex object>"
            ]
          },
          "metadata": {}
        },
        {
          "output_type": "display_data",
          "data": {
            "text/latex": "$D_0 = BV_-1*d = P d \\left(1 - d\\right)^{m - 1} = 23333.333333333332$",
            "text/plain": [
              "<IPython.core.display.Latex object>"
            ]
          },
          "metadata": {}
        },
        {
          "output_type": "display_data",
          "data": {
            "text/latex": "$BV_0 = P \\left(1 - d\\right)^{m} = 70000.0$",
            "text/plain": [
              "<IPython.core.display.Latex object>"
            ]
          },
          "metadata": {}
        },
        {
          "output_type": "display_data",
          "data": {
            "text/latex": "$D_1 = BV_0*d = P d \\left(1 - d\\right)^{m - 1} = 17500.0$",
            "text/plain": [
              "<IPython.core.display.Latex object>"
            ]
          },
          "metadata": {}
        },
        {
          "output_type": "display_data",
          "data": {
            "text/latex": "$BV_1 = P \\left(1 - d\\right)^{m} = 52500.0$",
            "text/plain": [
              "<IPython.core.display.Latex object>"
            ]
          },
          "metadata": {}
        },
        {
          "output_type": "display_data",
          "data": {
            "text/latex": "$D_2 = BV_1*d = P d \\left(1 - d\\right)^{m - 1} = 13125.0$",
            "text/plain": [
              "<IPython.core.display.Latex object>"
            ]
          },
          "metadata": {}
        },
        {
          "output_type": "display_data",
          "data": {
            "text/latex": "$BV_2 = P \\left(1 - d\\right)^{m} = 39375.0$",
            "text/plain": [
              "<IPython.core.display.Latex object>"
            ]
          },
          "metadata": {}
        },
        {
          "output_type": "display_data",
          "data": {
            "text/latex": "$D_3 = BV_2*d = P d \\left(1 - d\\right)^{m - 1} = 9843.75$",
            "text/plain": [
              "<IPython.core.display.Latex object>"
            ]
          },
          "metadata": {}
        },
        {
          "output_type": "display_data",
          "data": {
            "text/latex": "$BV_3 = P \\left(1 - d\\right)^{m} = 29531.25$",
            "text/plain": [
              "<IPython.core.display.Latex object>"
            ]
          },
          "metadata": {}
        },
        {
          "output_type": "display_data",
          "data": {
            "text/latex": "$D_4 = BV_3*d = P d \\left(1 - d\\right)^{m - 1} = 7382.8125$",
            "text/plain": [
              "<IPython.core.display.Latex object>"
            ]
          },
          "metadata": {}
        },
        {
          "output_type": "display_data",
          "data": {
            "text/latex": "$BV_4 = P \\left(1 - d\\right)^{m} = 22148.4375$",
            "text/plain": [
              "<IPython.core.display.Latex object>"
            ]
          },
          "metadata": {}
        },
        {
          "output_type": "display_data",
          "data": {
            "text/latex": "$D_5 = BV_4*d = P d \\left(1 - d\\right)^{m - 1} = 5537.109375$",
            "text/plain": [
              "<IPython.core.display.Latex object>"
            ]
          },
          "metadata": {}
        },
        {
          "output_type": "display_data",
          "data": {
            "text/latex": "$BV_5 = P \\left(1 - d\\right)^{m} = 16611.328125$",
            "text/plain": [
              "<IPython.core.display.Latex object>"
            ]
          },
          "metadata": {}
        },
        {
          "output_type": "display_data",
          "data": {
            "text/latex": "$D_6 = BV_5*d = P d \\left(1 - d\\right)^{m - 1} = 4152.83203125$",
            "text/plain": [
              "<IPython.core.display.Latex object>"
            ]
          },
          "metadata": {}
        },
        {
          "output_type": "display_data",
          "data": {
            "text/latex": "$BV_6 = P \\left(1 - d\\right)^{m} = 12458.49609375$",
            "text/plain": [
              "<IPython.core.display.Latex object>"
            ]
          },
          "metadata": {}
        },
        {
          "output_type": "display_data",
          "data": {
            "text/latex": "$D_7 = BV_6*d = P d \\left(1 - d\\right)^{m - 1} = 3114.6240234375$",
            "text/plain": [
              "<IPython.core.display.Latex object>"
            ]
          },
          "metadata": {}
        },
        {
          "output_type": "display_data",
          "data": {
            "text/latex": "$BV_7 = P \\left(1 - d\\right)^{m} = 9343.8720703125$",
            "text/plain": [
              "<IPython.core.display.Latex object>"
            ]
          },
          "metadata": {}
        },
        {
          "output_type": "display_data",
          "data": {
            "text/latex": "$D_8 = BV_7*d = P d \\left(1 - d\\right)^{m - 1} = 2335.968017578125$",
            "text/plain": [
              "<IPython.core.display.Latex object>"
            ]
          },
          "metadata": {}
        },
        {
          "output_type": "display_data",
          "data": {
            "text/latex": "$BV_8 = P \\left(1 - d\\right)^{m} = 7007.904052734375$",
            "text/plain": [
              "<IPython.core.display.Latex object>"
            ]
          },
          "metadata": {}
        },
        {
          "output_type": "display_data",
          "data": {
            "text/html": [
              "<div>\n",
              "<style scoped>\n",
              "    .dataframe tbody tr th:only-of-type {\n",
              "        vertical-align: middle;\n",
              "    }\n",
              "\n",
              "    .dataframe tbody tr th {\n",
              "        vertical-align: top;\n",
              "    }\n",
              "\n",
              "    .dataframe thead th {\n",
              "        text-align: right;\n",
              "    }\n",
              "</style>\n",
              "<table border=\"1\" class=\"dataframe\">\n",
              "  <thead>\n",
              "    <tr style=\"text-align: right;\">\n",
              "      <th></th>\n",
              "      <th>m</th>\n",
              "      <th>Dm</th>\n",
              "      <th>BVm</th>\n",
              "    </tr>\n",
              "  </thead>\n",
              "  <tbody>\n",
              "    <tr>\n",
              "      <th>0</th>\n",
              "      <td>0</td>\n",
              "      <td>23333.333333</td>\n",
              "      <td>70000.000000</td>\n",
              "    </tr>\n",
              "    <tr>\n",
              "      <th>1</th>\n",
              "      <td>1</td>\n",
              "      <td>17500.000000</td>\n",
              "      <td>52500.000000</td>\n",
              "    </tr>\n",
              "    <tr>\n",
              "      <th>2</th>\n",
              "      <td>2</td>\n",
              "      <td>13125.000000</td>\n",
              "      <td>39375.000000</td>\n",
              "    </tr>\n",
              "    <tr>\n",
              "      <th>3</th>\n",
              "      <td>3</td>\n",
              "      <td>9843.750000</td>\n",
              "      <td>29531.250000</td>\n",
              "    </tr>\n",
              "    <tr>\n",
              "      <th>4</th>\n",
              "      <td>4</td>\n",
              "      <td>7382.812500</td>\n",
              "      <td>22148.437500</td>\n",
              "    </tr>\n",
              "    <tr>\n",
              "      <th>5</th>\n",
              "      <td>5</td>\n",
              "      <td>5537.109375</td>\n",
              "      <td>16611.328125</td>\n",
              "    </tr>\n",
              "    <tr>\n",
              "      <th>6</th>\n",
              "      <td>6</td>\n",
              "      <td>4152.832031</td>\n",
              "      <td>12458.496094</td>\n",
              "    </tr>\n",
              "    <tr>\n",
              "      <th>7</th>\n",
              "      <td>7</td>\n",
              "      <td>3114.624023</td>\n",
              "      <td>9343.872070</td>\n",
              "    </tr>\n",
              "    <tr>\n",
              "      <th>8</th>\n",
              "      <td>8</td>\n",
              "      <td>2335.968018</td>\n",
              "      <td>7007.904053</td>\n",
              "    </tr>\n",
              "  </tbody>\n",
              "</table>\n",
              "</div>"
            ],
            "text/plain": [
              "   m            Dm           BVm\n",
              "0  0  23333.333333  70000.000000\n",
              "1  1  17500.000000  52500.000000\n",
              "2  2  13125.000000  39375.000000\n",
              "3  3   9843.750000  29531.250000\n",
              "4  4   7382.812500  22148.437500\n",
              "5  5   5537.109375  16611.328125\n",
              "6  6   4152.832031  12458.496094\n",
              "7  7   3114.624023   9343.872070\n",
              "8  8   2335.968018   7007.904053"
            ]
          },
          "metadata": {}
        }
      ]
    },
    {
      "cell_type": "markdown",
      "metadata": {
        "id": "IKN_WLdJF-k9"
      },
      "source": [
        "#<center>Chapter 12 Tax</center>\n",
        "---"
      ]
    },
    {
      "cell_type": "code",
      "metadata": {
        "id": "Dr9T1dCIuDfK"
      },
      "source": [
        "#TAX\n",
        "def Tax(GIs, OCs, Ds, TR, n, useCFBT=False, CFBTs=[], useLoan=False, PRs=[], Is=[]):\n",
        "\n",
        "  table = {'Year': [i + 1 for i in range(n)]}\n",
        "\n",
        "  if not useCFBT:\n",
        "    table['GI'] = GIs \n",
        "    table['OC'] = OCs\n",
        "    table['CFBT'] =  [GIs[i] - OCs[i] for i in range(n)]\n",
        "  else:\n",
        "    table['CFBT'] =  CFBTs\n",
        "\n",
        "  table['D']  = Ds\n",
        "  if useLoan:\n",
        "    table['I'] = Is \n",
        "    table['PR'] = PRs\n",
        "  table['TI']   = [table['CFBT'][i] - Ds[i] for i in range(n)]\n",
        "  if useLoan:\n",
        "    table['TI'] = [table['TI'][i] - Is[i] for i in range(n)]\n",
        "  table['TX']   = [TI * TR if TI > 0 else 0 for TI in table['TI']]\n",
        "  table['CFAT'] = [table['CFBT'][i] - table['TX'][i] for i in range(n)]\n",
        "  if useLoan:\n",
        "    table['CFAT'] = [table['CFAT'][i] - Is[i] - PRs[i] for i in range(n)]\n",
        "  # print(table)\n",
        "  display(pd.DataFrame(table))\n",
        "  return table['CFAT']\n",
        "\n",
        "\n",
        "def SumCFAT(CFATs, i): \n",
        "  return sum([P_F(CFATs[j - 1], i, j) for j in range(1, len(CFATs) + 1)])   "
      ],
      "execution_count": 23,
      "outputs": []
    },
    {
      "cell_type": "code",
      "metadata": {
        "colab": {
          "base_uri": "https://localhost:8080/",
          "height": 1000
        },
        "id": "5ZHx5MqQU8ct",
        "outputId": "a32c56a1-7462-49ea-f1c8-68ab59c6128a"
      },
      "source": [
        "n = 10\n",
        "P = 11e5\n",
        "SV = 1e5\n",
        "GIs = [27000 - 1000 * i for i in range(n)]\n",
        "OCs = [10000 + 500 * i  for i in range(n)]\n",
        "useCFBT = True\n",
        "# CFBTs = [6e3] * n\n",
        "CFBTs = [3e5 - 1e4 * (m-1) for m in range(1, n + 1)]\n",
        "useLoan = False \n",
        "Is = [5e4] * n\n",
        "PRs = [5e4] * n\n",
        "\n",
        "TR  = 0.4\n",
        "d  = DeclineLinear(P, n, SV)\n",
        "d.GetTable()\n",
        "# d.GetFixedTable()\n",
        "Ds = d.GetDs()\n",
        "# Ds = d.GetFixedDs()\n",
        "\n",
        "\n",
        "\n",
        "CFATs = Tax(GIs, OCs, Ds, TR, n, useCFBT, CFBTs, useLoan, PRs, Is)\n",
        "i = 0.1\n",
        "print((-(P) + SumCFAT(CFATs, i) + P_F(SV, i, n))) # if using loan, change P\n",
        "print(SumCFAT(CFATs, i))\n",
        "# print(P_F(6500, i, n))\n",
        "print(d.GetTaxSaving(TR, i))"
      ],
      "execution_count": 24,
      "outputs": [
        {
          "output_type": "display_data",
          "data": {
            "text/latex": "$D =\\frac{P - SV}{n} = 100000.0$",
            "text/plain": [
              "<IPython.core.display.Latex object>"
            ]
          },
          "metadata": {}
        },
        {
          "output_type": "display_data",
          "data": {
            "text/latex": "$D =\\frac{P - SV}{n} = 100000.0$",
            "text/plain": [
              "<IPython.core.display.Latex object>"
            ]
          },
          "metadata": {}
        },
        {
          "output_type": "display_data",
          "data": {
            "text/latex": "$BV_0=- D m + P = 1100000.0$",
            "text/plain": [
              "<IPython.core.display.Latex object>"
            ]
          },
          "metadata": {}
        },
        {
          "output_type": "display_data",
          "data": {
            "text/latex": "$D =\\frac{P - SV}{n} = 100000.0$",
            "text/plain": [
              "<IPython.core.display.Latex object>"
            ]
          },
          "metadata": {}
        },
        {
          "output_type": "display_data",
          "data": {
            "text/latex": "$D =\\frac{P - SV}{n} = 100000.0$",
            "text/plain": [
              "<IPython.core.display.Latex object>"
            ]
          },
          "metadata": {}
        },
        {
          "output_type": "display_data",
          "data": {
            "text/latex": "$BV_1=- D m + P = 1000000.0$",
            "text/plain": [
              "<IPython.core.display.Latex object>"
            ]
          },
          "metadata": {}
        },
        {
          "output_type": "display_data",
          "data": {
            "text/latex": "$D =\\frac{P - SV}{n} = 100000.0$",
            "text/plain": [
              "<IPython.core.display.Latex object>"
            ]
          },
          "metadata": {}
        },
        {
          "output_type": "display_data",
          "data": {
            "text/latex": "$D =\\frac{P - SV}{n} = 100000.0$",
            "text/plain": [
              "<IPython.core.display.Latex object>"
            ]
          },
          "metadata": {}
        },
        {
          "output_type": "display_data",
          "data": {
            "text/latex": "$BV_2=- D m + P = 900000.0$",
            "text/plain": [
              "<IPython.core.display.Latex object>"
            ]
          },
          "metadata": {}
        },
        {
          "output_type": "display_data",
          "data": {
            "text/latex": "$D =\\frac{P - SV}{n} = 100000.0$",
            "text/plain": [
              "<IPython.core.display.Latex object>"
            ]
          },
          "metadata": {}
        },
        {
          "output_type": "display_data",
          "data": {
            "text/latex": "$D =\\frac{P - SV}{n} = 100000.0$",
            "text/plain": [
              "<IPython.core.display.Latex object>"
            ]
          },
          "metadata": {}
        },
        {
          "output_type": "display_data",
          "data": {
            "text/latex": "$BV_3=- D m + P = 800000.0$",
            "text/plain": [
              "<IPython.core.display.Latex object>"
            ]
          },
          "metadata": {}
        },
        {
          "output_type": "display_data",
          "data": {
            "text/latex": "$D =\\frac{P - SV}{n} = 100000.0$",
            "text/plain": [
              "<IPython.core.display.Latex object>"
            ]
          },
          "metadata": {}
        },
        {
          "output_type": "display_data",
          "data": {
            "text/latex": "$D =\\frac{P - SV}{n} = 100000.0$",
            "text/plain": [
              "<IPython.core.display.Latex object>"
            ]
          },
          "metadata": {}
        },
        {
          "output_type": "display_data",
          "data": {
            "text/latex": "$BV_4=- D m + P = 700000.0$",
            "text/plain": [
              "<IPython.core.display.Latex object>"
            ]
          },
          "metadata": {}
        },
        {
          "output_type": "display_data",
          "data": {
            "text/latex": "$D =\\frac{P - SV}{n} = 100000.0$",
            "text/plain": [
              "<IPython.core.display.Latex object>"
            ]
          },
          "metadata": {}
        },
        {
          "output_type": "display_data",
          "data": {
            "text/latex": "$D =\\frac{P - SV}{n} = 100000.0$",
            "text/plain": [
              "<IPython.core.display.Latex object>"
            ]
          },
          "metadata": {}
        },
        {
          "output_type": "display_data",
          "data": {
            "text/latex": "$BV_5=- D m + P = 600000.0$",
            "text/plain": [
              "<IPython.core.display.Latex object>"
            ]
          },
          "metadata": {}
        },
        {
          "output_type": "display_data",
          "data": {
            "text/latex": "$D =\\frac{P - SV}{n} = 100000.0$",
            "text/plain": [
              "<IPython.core.display.Latex object>"
            ]
          },
          "metadata": {}
        },
        {
          "output_type": "display_data",
          "data": {
            "text/latex": "$D =\\frac{P - SV}{n} = 100000.0$",
            "text/plain": [
              "<IPython.core.display.Latex object>"
            ]
          },
          "metadata": {}
        },
        {
          "output_type": "display_data",
          "data": {
            "text/latex": "$BV_6=- D m + P = 500000.0$",
            "text/plain": [
              "<IPython.core.display.Latex object>"
            ]
          },
          "metadata": {}
        },
        {
          "output_type": "display_data",
          "data": {
            "text/latex": "$D =\\frac{P - SV}{n} = 100000.0$",
            "text/plain": [
              "<IPython.core.display.Latex object>"
            ]
          },
          "metadata": {}
        },
        {
          "output_type": "display_data",
          "data": {
            "text/latex": "$D =\\frac{P - SV}{n} = 100000.0$",
            "text/plain": [
              "<IPython.core.display.Latex object>"
            ]
          },
          "metadata": {}
        },
        {
          "output_type": "display_data",
          "data": {
            "text/latex": "$BV_7=- D m + P = 400000.0$",
            "text/plain": [
              "<IPython.core.display.Latex object>"
            ]
          },
          "metadata": {}
        },
        {
          "output_type": "display_data",
          "data": {
            "text/latex": "$D =\\frac{P - SV}{n} = 100000.0$",
            "text/plain": [
              "<IPython.core.display.Latex object>"
            ]
          },
          "metadata": {}
        },
        {
          "output_type": "display_data",
          "data": {
            "text/latex": "$D =\\frac{P - SV}{n} = 100000.0$",
            "text/plain": [
              "<IPython.core.display.Latex object>"
            ]
          },
          "metadata": {}
        },
        {
          "output_type": "display_data",
          "data": {
            "text/latex": "$BV_8=- D m + P = 300000.0$",
            "text/plain": [
              "<IPython.core.display.Latex object>"
            ]
          },
          "metadata": {}
        },
        {
          "output_type": "display_data",
          "data": {
            "text/latex": "$D =\\frac{P - SV}{n} = 100000.0$",
            "text/plain": [
              "<IPython.core.display.Latex object>"
            ]
          },
          "metadata": {}
        },
        {
          "output_type": "display_data",
          "data": {
            "text/latex": "$D =\\frac{P - SV}{n} = 100000.0$",
            "text/plain": [
              "<IPython.core.display.Latex object>"
            ]
          },
          "metadata": {}
        },
        {
          "output_type": "display_data",
          "data": {
            "text/latex": "$BV_9=- D m + P = 200000.0$",
            "text/plain": [
              "<IPython.core.display.Latex object>"
            ]
          },
          "metadata": {}
        },
        {
          "output_type": "display_data",
          "data": {
            "text/latex": "$D =\\frac{P - SV}{n} = 100000.0$",
            "text/plain": [
              "<IPython.core.display.Latex object>"
            ]
          },
          "metadata": {}
        },
        {
          "output_type": "display_data",
          "data": {
            "text/latex": "$D =\\frac{P - SV}{n} = 100000.0$",
            "text/plain": [
              "<IPython.core.display.Latex object>"
            ]
          },
          "metadata": {}
        },
        {
          "output_type": "display_data",
          "data": {
            "text/latex": "$BV_10=- D m + P = 100000.0$",
            "text/plain": [
              "<IPython.core.display.Latex object>"
            ]
          },
          "metadata": {}
        },
        {
          "output_type": "display_data",
          "data": {
            "text/html": [
              "<div>\n",
              "<style scoped>\n",
              "    .dataframe tbody tr th:only-of-type {\n",
              "        vertical-align: middle;\n",
              "    }\n",
              "\n",
              "    .dataframe tbody tr th {\n",
              "        vertical-align: top;\n",
              "    }\n",
              "\n",
              "    .dataframe thead th {\n",
              "        text-align: right;\n",
              "    }\n",
              "</style>\n",
              "<table border=\"1\" class=\"dataframe\">\n",
              "  <thead>\n",
              "    <tr style=\"text-align: right;\">\n",
              "      <th></th>\n",
              "      <th>m</th>\n",
              "      <th>Dm</th>\n",
              "      <th>BVm</th>\n",
              "    </tr>\n",
              "  </thead>\n",
              "  <tbody>\n",
              "    <tr>\n",
              "      <th>0</th>\n",
              "      <td>0</td>\n",
              "      <td>100000.0</td>\n",
              "      <td>1100000.0</td>\n",
              "    </tr>\n",
              "    <tr>\n",
              "      <th>1</th>\n",
              "      <td>1</td>\n",
              "      <td>100000.0</td>\n",
              "      <td>1000000.0</td>\n",
              "    </tr>\n",
              "    <tr>\n",
              "      <th>2</th>\n",
              "      <td>2</td>\n",
              "      <td>100000.0</td>\n",
              "      <td>900000.0</td>\n",
              "    </tr>\n",
              "    <tr>\n",
              "      <th>3</th>\n",
              "      <td>3</td>\n",
              "      <td>100000.0</td>\n",
              "      <td>800000.0</td>\n",
              "    </tr>\n",
              "    <tr>\n",
              "      <th>4</th>\n",
              "      <td>4</td>\n",
              "      <td>100000.0</td>\n",
              "      <td>700000.0</td>\n",
              "    </tr>\n",
              "    <tr>\n",
              "      <th>5</th>\n",
              "      <td>5</td>\n",
              "      <td>100000.0</td>\n",
              "      <td>600000.0</td>\n",
              "    </tr>\n",
              "    <tr>\n",
              "      <th>6</th>\n",
              "      <td>6</td>\n",
              "      <td>100000.0</td>\n",
              "      <td>500000.0</td>\n",
              "    </tr>\n",
              "    <tr>\n",
              "      <th>7</th>\n",
              "      <td>7</td>\n",
              "      <td>100000.0</td>\n",
              "      <td>400000.0</td>\n",
              "    </tr>\n",
              "    <tr>\n",
              "      <th>8</th>\n",
              "      <td>8</td>\n",
              "      <td>100000.0</td>\n",
              "      <td>300000.0</td>\n",
              "    </tr>\n",
              "    <tr>\n",
              "      <th>9</th>\n",
              "      <td>9</td>\n",
              "      <td>100000.0</td>\n",
              "      <td>200000.0</td>\n",
              "    </tr>\n",
              "    <tr>\n",
              "      <th>10</th>\n",
              "      <td>10</td>\n",
              "      <td>100000.0</td>\n",
              "      <td>100000.0</td>\n",
              "    </tr>\n",
              "  </tbody>\n",
              "</table>\n",
              "</div>"
            ],
            "text/plain": [
              "     m        Dm        BVm\n",
              "0    0  100000.0  1100000.0\n",
              "1    1  100000.0  1000000.0\n",
              "2    2  100000.0   900000.0\n",
              "3    3  100000.0   800000.0\n",
              "4    4  100000.0   700000.0\n",
              "5    5  100000.0   600000.0\n",
              "6    6  100000.0   500000.0\n",
              "7    7  100000.0   400000.0\n",
              "8    8  100000.0   300000.0\n",
              "9    9  100000.0   200000.0\n",
              "10  10  100000.0   100000.0"
            ]
          },
          "metadata": {}
        },
        {
          "output_type": "display_data",
          "data": {
            "text/latex": "$D =\\frac{P - SV}{n} = 100000.0$",
            "text/plain": [
              "<IPython.core.display.Latex object>"
            ]
          },
          "metadata": {}
        },
        {
          "output_type": "display_data",
          "data": {
            "text/latex": "$D =\\frac{P - SV}{n} = 100000.0$",
            "text/plain": [
              "<IPython.core.display.Latex object>"
            ]
          },
          "metadata": {}
        },
        {
          "output_type": "display_data",
          "data": {
            "text/latex": "$D =\\frac{P - SV}{n} = 100000.0$",
            "text/plain": [
              "<IPython.core.display.Latex object>"
            ]
          },
          "metadata": {}
        },
        {
          "output_type": "display_data",
          "data": {
            "text/latex": "$D =\\frac{P - SV}{n} = 100000.0$",
            "text/plain": [
              "<IPython.core.display.Latex object>"
            ]
          },
          "metadata": {}
        },
        {
          "output_type": "display_data",
          "data": {
            "text/latex": "$D =\\frac{P - SV}{n} = 100000.0$",
            "text/plain": [
              "<IPython.core.display.Latex object>"
            ]
          },
          "metadata": {}
        },
        {
          "output_type": "display_data",
          "data": {
            "text/latex": "$D =\\frac{P - SV}{n} = 100000.0$",
            "text/plain": [
              "<IPython.core.display.Latex object>"
            ]
          },
          "metadata": {}
        },
        {
          "output_type": "display_data",
          "data": {
            "text/latex": "$D =\\frac{P - SV}{n} = 100000.0$",
            "text/plain": [
              "<IPython.core.display.Latex object>"
            ]
          },
          "metadata": {}
        },
        {
          "output_type": "display_data",
          "data": {
            "text/latex": "$D =\\frac{P - SV}{n} = 100000.0$",
            "text/plain": [
              "<IPython.core.display.Latex object>"
            ]
          },
          "metadata": {}
        },
        {
          "output_type": "display_data",
          "data": {
            "text/latex": "$D =\\frac{P - SV}{n} = 100000.0$",
            "text/plain": [
              "<IPython.core.display.Latex object>"
            ]
          },
          "metadata": {}
        },
        {
          "output_type": "display_data",
          "data": {
            "text/latex": "$D =\\frac{P - SV}{n} = 100000.0$",
            "text/plain": [
              "<IPython.core.display.Latex object>"
            ]
          },
          "metadata": {}
        },
        {
          "output_type": "display_data",
          "data": {
            "text/html": [
              "<div>\n",
              "<style scoped>\n",
              "    .dataframe tbody tr th:only-of-type {\n",
              "        vertical-align: middle;\n",
              "    }\n",
              "\n",
              "    .dataframe tbody tr th {\n",
              "        vertical-align: top;\n",
              "    }\n",
              "\n",
              "    .dataframe thead th {\n",
              "        text-align: right;\n",
              "    }\n",
              "</style>\n",
              "<table border=\"1\" class=\"dataframe\">\n",
              "  <thead>\n",
              "    <tr style=\"text-align: right;\">\n",
              "      <th></th>\n",
              "      <th>Year</th>\n",
              "      <th>CFBT</th>\n",
              "      <th>D</th>\n",
              "      <th>TI</th>\n",
              "      <th>TX</th>\n",
              "      <th>CFAT</th>\n",
              "    </tr>\n",
              "  </thead>\n",
              "  <tbody>\n",
              "    <tr>\n",
              "      <th>0</th>\n",
              "      <td>1</td>\n",
              "      <td>300000.0</td>\n",
              "      <td>100000.0</td>\n",
              "      <td>200000.0</td>\n",
              "      <td>80000.0</td>\n",
              "      <td>220000.0</td>\n",
              "    </tr>\n",
              "    <tr>\n",
              "      <th>1</th>\n",
              "      <td>2</td>\n",
              "      <td>290000.0</td>\n",
              "      <td>100000.0</td>\n",
              "      <td>190000.0</td>\n",
              "      <td>76000.0</td>\n",
              "      <td>214000.0</td>\n",
              "    </tr>\n",
              "    <tr>\n",
              "      <th>2</th>\n",
              "      <td>3</td>\n",
              "      <td>280000.0</td>\n",
              "      <td>100000.0</td>\n",
              "      <td>180000.0</td>\n",
              "      <td>72000.0</td>\n",
              "      <td>208000.0</td>\n",
              "    </tr>\n",
              "    <tr>\n",
              "      <th>3</th>\n",
              "      <td>4</td>\n",
              "      <td>270000.0</td>\n",
              "      <td>100000.0</td>\n",
              "      <td>170000.0</td>\n",
              "      <td>68000.0</td>\n",
              "      <td>202000.0</td>\n",
              "    </tr>\n",
              "    <tr>\n",
              "      <th>4</th>\n",
              "      <td>5</td>\n",
              "      <td>260000.0</td>\n",
              "      <td>100000.0</td>\n",
              "      <td>160000.0</td>\n",
              "      <td>64000.0</td>\n",
              "      <td>196000.0</td>\n",
              "    </tr>\n",
              "    <tr>\n",
              "      <th>5</th>\n",
              "      <td>6</td>\n",
              "      <td>250000.0</td>\n",
              "      <td>100000.0</td>\n",
              "      <td>150000.0</td>\n",
              "      <td>60000.0</td>\n",
              "      <td>190000.0</td>\n",
              "    </tr>\n",
              "    <tr>\n",
              "      <th>6</th>\n",
              "      <td>7</td>\n",
              "      <td>240000.0</td>\n",
              "      <td>100000.0</td>\n",
              "      <td>140000.0</td>\n",
              "      <td>56000.0</td>\n",
              "      <td>184000.0</td>\n",
              "    </tr>\n",
              "    <tr>\n",
              "      <th>7</th>\n",
              "      <td>8</td>\n",
              "      <td>230000.0</td>\n",
              "      <td>100000.0</td>\n",
              "      <td>130000.0</td>\n",
              "      <td>52000.0</td>\n",
              "      <td>178000.0</td>\n",
              "    </tr>\n",
              "    <tr>\n",
              "      <th>8</th>\n",
              "      <td>9</td>\n",
              "      <td>220000.0</td>\n",
              "      <td>100000.0</td>\n",
              "      <td>120000.0</td>\n",
              "      <td>48000.0</td>\n",
              "      <td>172000.0</td>\n",
              "    </tr>\n",
              "    <tr>\n",
              "      <th>9</th>\n",
              "      <td>10</td>\n",
              "      <td>210000.0</td>\n",
              "      <td>100000.0</td>\n",
              "      <td>110000.0</td>\n",
              "      <td>44000.0</td>\n",
              "      <td>166000.0</td>\n",
              "    </tr>\n",
              "  </tbody>\n",
              "</table>\n",
              "</div>"
            ],
            "text/plain": [
              "   Year      CFBT         D        TI       TX      CFAT\n",
              "0     1  300000.0  100000.0  200000.0  80000.0  220000.0\n",
              "1     2  290000.0  100000.0  190000.0  76000.0  214000.0\n",
              "2     3  280000.0  100000.0  180000.0  72000.0  208000.0\n",
              "3     4  270000.0  100000.0  170000.0  68000.0  202000.0\n",
              "4     5  260000.0  100000.0  160000.0  64000.0  196000.0\n",
              "5     6  250000.0  100000.0  150000.0  60000.0  190000.0\n",
              "6     7  240000.0  100000.0  140000.0  56000.0  184000.0\n",
              "7     8  230000.0  100000.0  130000.0  52000.0  178000.0\n",
              "8     9  220000.0  100000.0  120000.0  48000.0  172000.0\n",
              "9    10  210000.0  100000.0  110000.0  44000.0  166000.0"
            ]
          },
          "metadata": {}
        },
        {
          "output_type": "stream",
          "name": "stdout",
          "text": [
            "153011.039513421\n",
            "1214456.7105704679\n"
          ]
        },
        {
          "output_type": "display_data",
          "data": {
            "text/latex": "$D =\\frac{P - SV}{n} = 100000.0$",
            "text/plain": [
              "<IPython.core.display.Latex object>"
            ]
          },
          "metadata": {}
        },
        {
          "output_type": "display_data",
          "data": {
            "text/latex": "$D =\\frac{P - SV}{n} = 100000.0$",
            "text/plain": [
              "<IPython.core.display.Latex object>"
            ]
          },
          "metadata": {}
        },
        {
          "output_type": "display_data",
          "data": {
            "text/latex": "$D =\\frac{P - SV}{n} = 100000.0$",
            "text/plain": [
              "<IPython.core.display.Latex object>"
            ]
          },
          "metadata": {}
        },
        {
          "output_type": "display_data",
          "data": {
            "text/latex": "$D =\\frac{P - SV}{n} = 100000.0$",
            "text/plain": [
              "<IPython.core.display.Latex object>"
            ]
          },
          "metadata": {}
        },
        {
          "output_type": "display_data",
          "data": {
            "text/latex": "$D =\\frac{P - SV}{n} = 100000.0$",
            "text/plain": [
              "<IPython.core.display.Latex object>"
            ]
          },
          "metadata": {}
        },
        {
          "output_type": "display_data",
          "data": {
            "text/latex": "$D =\\frac{P - SV}{n} = 100000.0$",
            "text/plain": [
              "<IPython.core.display.Latex object>"
            ]
          },
          "metadata": {}
        },
        {
          "output_type": "display_data",
          "data": {
            "text/latex": "$D =\\frac{P - SV}{n} = 100000.0$",
            "text/plain": [
              "<IPython.core.display.Latex object>"
            ]
          },
          "metadata": {}
        },
        {
          "output_type": "display_data",
          "data": {
            "text/latex": "$D =\\frac{P - SV}{n} = 100000.0$",
            "text/plain": [
              "<IPython.core.display.Latex object>"
            ]
          },
          "metadata": {}
        },
        {
          "output_type": "display_data",
          "data": {
            "text/latex": "$D =\\frac{P - SV}{n} = 100000.0$",
            "text/plain": [
              "<IPython.core.display.Latex object>"
            ]
          },
          "metadata": {}
        },
        {
          "output_type": "display_data",
          "data": {
            "text/latex": "$D =\\frac{P - SV}{n} = 100000.0$",
            "text/plain": [
              "<IPython.core.display.Latex object>"
            ]
          },
          "metadata": {}
        },
        {
          "output_type": "stream",
          "name": "stdout",
          "text": [
            "method1: 245782.6842281872 method2: 245782.68422818743\n",
            "245782.68422818743\n"
          ]
        }
      ]
    },
    {
      "cell_type": "markdown",
      "metadata": {
        "id": "oDOHhW4RIAMg"
      },
      "source": [
        "#<center>Chapter 13 & 14</center>\n",
        "These 2 chapters were bit tricky to derive a formula out of them. I left some of my codes, I leave it to you to make them better. good luck!"
      ]
    },
    {
      "cell_type": "code",
      "metadata": {
        "colab": {
          "base_uri": "https://localhost:8080/",
          "height": 579
        },
        "id": "VrHwPoqrUWNH",
        "outputId": "336b0ab4-f8b9-4482-8ae7-cc2f37c711f9"
      },
      "source": [
        "# Economic Service Life\n",
        "def ESL():\n",
        "  table = {'n': [], 'EUAC1': [], 'EUAC2': [], 'EUAC3': []}\n",
        "  \n",
        "  \n",
        "  \n",
        "  i = 0.1\n",
        "  n = 15\n",
        "  SVs = [33e3 - (2500) * (m - 1) for m in range(1, n + 1)]\n",
        "  # SVs = [0] * n\n",
        "  # OCs = [2e3 * (1.15) ** (m-1) for m in range(1, n + 1)]\n",
        "  # OCs = [2e3 + 1500*(m - 1) for m in range(1, n + 1)]\n",
        "  # OCs = [2e3, 27e2, 3e3, 35e2, 45e2]\n",
        "\n",
        "  print(SVs)\n",
        "  # print(OCs)\n",
        "\n",
        "  table['n'] = [m for m in range(1, n + 1)]\n",
        "  table['EUAC1'] = [A_P(33e3, i, m) for m in range(1, n + 1)]\n",
        "  # t = [P_F(OCs[0], i, 1)]\n",
        "  # for m in range(2, n + 1):\n",
        "  #   t.append(t[m - 2] + P_F(OCs[m-1], i, m))\n",
        "  # table['EUAC2'] = [A_P(t[m-1], i, m) for m in range(1, n + 1)]\n",
        "  table['EUAC2'] = [0 for m in range(1, n + 1)]\n",
        "  # table['EUAC2'] = [2e3 + A_G(1500, i, m) for m in range(1, n + 1)]\n",
        "  # table['EUAC3'] = [A_(900, i, m) for m in range(1, n + 1)]\n",
        "  table['EUAC3'] = [A_F(-SVs[m - 1], i, m) for m in range(1, n + 1)]\n",
        "  table['EUAC'] = [table['EUAC1'][m-1] + table['EUAC2'][m-1] + table['EUAC3'][m-1] for m in range(1, n + 1)]\n",
        "\n",
        "  df = pd.DataFrame(table).set_index('n')\n",
        "  display(df)\n",
        "  t = min(table['EUAC'])\n",
        "  print(table['EUAC'].index(t) + 1, t)\n",
        "\n",
        "ESL()"
      ],
      "execution_count": 25,
      "outputs": [
        {
          "output_type": "stream",
          "name": "stdout",
          "text": [
            "[33000.0, 30500.0, 28000.0, 25500.0, 23000.0, 20500.0, 18000.0, 15500.0, 13000.0, 10500.0, 8000.0, 5500.0, 3000.0, 500.0, -2000.0]\n"
          ]
        },
        {
          "output_type": "display_data",
          "data": {
            "text/html": [
              "<div>\n",
              "<style scoped>\n",
              "    .dataframe tbody tr th:only-of-type {\n",
              "        vertical-align: middle;\n",
              "    }\n",
              "\n",
              "    .dataframe tbody tr th {\n",
              "        vertical-align: top;\n",
              "    }\n",
              "\n",
              "    .dataframe thead th {\n",
              "        text-align: right;\n",
              "    }\n",
              "</style>\n",
              "<table border=\"1\" class=\"dataframe\">\n",
              "  <thead>\n",
              "    <tr style=\"text-align: right;\">\n",
              "      <th></th>\n",
              "      <th>EUAC1</th>\n",
              "      <th>EUAC2</th>\n",
              "      <th>EUAC3</th>\n",
              "      <th>EUAC</th>\n",
              "    </tr>\n",
              "    <tr>\n",
              "      <th>n</th>\n",
              "      <th></th>\n",
              "      <th></th>\n",
              "      <th></th>\n",
              "      <th></th>\n",
              "    </tr>\n",
              "  </thead>\n",
              "  <tbody>\n",
              "    <tr>\n",
              "      <th>1</th>\n",
              "      <td>36300.000000</td>\n",
              "      <td>0</td>\n",
              "      <td>-33000.000000</td>\n",
              "      <td>3300.000000</td>\n",
              "    </tr>\n",
              "    <tr>\n",
              "      <th>2</th>\n",
              "      <td>19014.285714</td>\n",
              "      <td>0</td>\n",
              "      <td>-14523.809524</td>\n",
              "      <td>4490.476190</td>\n",
              "    </tr>\n",
              "    <tr>\n",
              "      <th>3</th>\n",
              "      <td>13269.788520</td>\n",
              "      <td>0</td>\n",
              "      <td>-8459.214502</td>\n",
              "      <td>4810.574018</td>\n",
              "    </tr>\n",
              "    <tr>\n",
              "      <th>4</th>\n",
              "      <td>10410.536522</td>\n",
              "      <td>0</td>\n",
              "      <td>-5494.505495</td>\n",
              "      <td>4916.031028</td>\n",
              "    </tr>\n",
              "    <tr>\n",
              "      <th>5</th>\n",
              "      <td>8705.316866</td>\n",
              "      <td>0</td>\n",
              "      <td>-3767.342058</td>\n",
              "      <td>4937.974808</td>\n",
              "    </tr>\n",
              "    <tr>\n",
              "      <th>6</th>\n",
              "      <td>7577.043552</td>\n",
              "      <td>0</td>\n",
              "      <td>-2656.951297</td>\n",
              "      <td>4920.092255</td>\n",
              "    </tr>\n",
              "    <tr>\n",
              "      <th>7</th>\n",
              "      <td>6778.381490</td>\n",
              "      <td>0</td>\n",
              "      <td>-1897.298995</td>\n",
              "      <td>4881.082496</td>\n",
              "    </tr>\n",
              "    <tr>\n",
              "      <th>8</th>\n",
              "      <td>6185.652580</td>\n",
              "      <td>0</td>\n",
              "      <td>-1355.382272</td>\n",
              "      <td>4830.270308</td>\n",
              "    </tr>\n",
              "    <tr>\n",
              "      <th>9</th>\n",
              "      <td>5730.137789</td>\n",
              "      <td>0</td>\n",
              "      <td>-957.327008</td>\n",
              "      <td>4772.810781</td>\n",
              "    </tr>\n",
              "    <tr>\n",
              "      <th>10</th>\n",
              "      <td>5370.598031</td>\n",
              "      <td>0</td>\n",
              "      <td>-658.826646</td>\n",
              "      <td>4711.771385</td>\n",
              "    </tr>\n",
              "    <tr>\n",
              "      <th>11</th>\n",
              "      <td>5080.783687</td>\n",
              "      <td>0</td>\n",
              "      <td>-431.705136</td>\n",
              "      <td>4649.078551</td>\n",
              "    </tr>\n",
              "    <tr>\n",
              "      <th>12</th>\n",
              "      <td>4843.189398</td>\n",
              "      <td>0</td>\n",
              "      <td>-257.198233</td>\n",
              "      <td>4585.991165</td>\n",
              "    </tr>\n",
              "    <tr>\n",
              "      <th>13</th>\n",
              "      <td>4645.691284</td>\n",
              "      <td>0</td>\n",
              "      <td>-122.335571</td>\n",
              "      <td>4523.355713</td>\n",
              "    </tr>\n",
              "    <tr>\n",
              "      <th>14</th>\n",
              "      <td>4479.625367</td>\n",
              "      <td>0</td>\n",
              "      <td>-17.873112</td>\n",
              "      <td>4461.752255</td>\n",
              "    </tr>\n",
              "    <tr>\n",
              "      <th>15</th>\n",
              "      <td>4338.634637</td>\n",
              "      <td>0</td>\n",
              "      <td>62.947554</td>\n",
              "      <td>4401.582191</td>\n",
              "    </tr>\n",
              "  </tbody>\n",
              "</table>\n",
              "</div>"
            ],
            "text/plain": [
              "           EUAC1  EUAC2         EUAC3         EUAC\n",
              "n                                                 \n",
              "1   36300.000000      0 -33000.000000  3300.000000\n",
              "2   19014.285714      0 -14523.809524  4490.476190\n",
              "3   13269.788520      0  -8459.214502  4810.574018\n",
              "4   10410.536522      0  -5494.505495  4916.031028\n",
              "5    8705.316866      0  -3767.342058  4937.974808\n",
              "6    7577.043552      0  -2656.951297  4920.092255\n",
              "7    6778.381490      0  -1897.298995  4881.082496\n",
              "8    6185.652580      0  -1355.382272  4830.270308\n",
              "9    5730.137789      0   -957.327008  4772.810781\n",
              "10   5370.598031      0   -658.826646  4711.771385\n",
              "11   5080.783687      0   -431.705136  4649.078551\n",
              "12   4843.189398      0   -257.198233  4585.991165\n",
              "13   4645.691284      0   -122.335571  4523.355713\n",
              "14   4479.625367      0    -17.873112  4461.752255\n",
              "15   4338.634637      0     62.947554  4401.582191"
            ]
          },
          "metadata": {}
        },
        {
          "output_type": "stream",
          "name": "stdout",
          "text": [
            "1 3300.0\n"
          ]
        }
      ]
    },
    {
      "cell_type": "code",
      "metadata": {
        "colab": {
          "base_uri": "https://localhost:8080/",
          "height": 313
        },
        "id": "CuiISPBrXBLx",
        "outputId": "a623e2a8-0ee3-4307-d3eb-1178852d6df9"
      },
      "source": [
        "n = np.linspace(1, 30, 30)\n",
        "print(n)\n",
        "plt.plot(n, -116400 + 32000 * P_A(1, 0.13, n) - 2500 * P_G(1, 0.13, n), color='r')\n",
        "plt.plot(n, -170000 + 32000 * P_A(1, 0.13, n) + 20000 * P_F(1, 0.13, n), color='b')"
      ],
      "execution_count": 26,
      "outputs": [
        {
          "output_type": "stream",
          "name": "stdout",
          "text": [
            "[ 1.  2.  3.  4.  5.  6.  7.  8.  9. 10. 11. 12. 13. 14. 15. 16. 17. 18.\n",
            " 19. 20. 21. 22. 23. 24. 25. 26. 27. 28. 29. 30.]\n"
          ]
        },
        {
          "output_type": "execute_result",
          "data": {
            "text/plain": [
              "[<matplotlib.lines.Line2D at 0x7ff986b9ef50>]"
            ]
          },
          "metadata": {},
          "execution_count": 26
        },
        {
          "output_type": "display_data",
          "data": {
            "image/png": "[encoded data removed]",
            "text/plain": [
              "<Figure size 432x288 with 1 Axes>"
            ]
          },
          "metadata": {}
        }
      ]
    },
    {
      "cell_type": "code",
      "metadata": {
        "id": "4KaQBcoPdUzh"
      },
      "source": [
        ""
      ],
      "execution_count": 26,
      "outputs": []
    }
  ]
}